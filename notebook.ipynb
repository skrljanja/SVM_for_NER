{
 "cells": [
  {
   "cell_type": "markdown",
   "metadata": {},
   "source": [
    "# Named entity recognition with SVM \n"
   ]
  },
  {
   "cell_type": "markdown",
   "metadata": {},
   "source": [
    "## Prerequisites\n",
    "\n",
    "Downloading the folowing libraries: numpy, scikit-learn, scipy, stanza\n",
    "(versions used: stanza==1.0.1, scikit-learn==0.22.1, numpy==1.18.1, scipy==1.4.1)\n"
   ]
  },
  {
   "cell_type": "markdown",
   "metadata": {},
   "source": [
    "## File type\n",
    "\n",
    "A text file containing a line of text for each word of the format:\n",
    "[word] [part of speech] [chunk] [NER tag]\n",
    "\n",
    "The NER tag can be one of the following: \n",
    "\"O\",\"B-ORG\", B-MISC\", B-LOC\", \"B-PER\",\"I-ORG\",\"I-MISC\",\"I-LOC\",\"I-PER\"\n",
    "\n",
    "where \"O\" denotes a word that is not a named entity, \"B\" means the word is a beggining of a named entity, \n",
    "\"I\" means the word is within the named entity, and LOC, PER, ORG and MISC mean location, person, organisation and other, respectively. \n",
    "\n",
    "For the purpose of this, the model will not differentiate between \"B\" and \"I\" \n",
    "\n",
    "\n",
    "## Method \n",
    "\n",
    "This model uses a Suport Vector Machine from scikitlearn, with a linear kernel, with a seperate classifier for each NER tag (LOC, ORG, PER, MISC) \n"
   ]
  },
  {
   "cell_type": "code",
   "execution_count": null,
   "metadata": {},
   "outputs": [],
   "source": [
    "clf = svm.SVC(kernel='linear', C=1)"
   ]
  },
  {
   "cell_type": "markdown",
   "metadata": {},
   "source": [
    "### Features\n",
    "\n",
    "The preprocessing steps of splitting and lemmatising the text is done in [TFIDFutils] and [TFIDFprepare]\n",
    "The features are the following (note: they are all transformed to numbers):\n",
    "\n",
    "#### part of speech and chunk\n",
    "obtained from the data directly, using the code in [parseCoNLL.py](https://github.com/skrljanja/E3/blob/master/NewTrain/parseCoNLL.py)\n",
    "\n",
    "#### form\n",
    "boolean telling us whether a word starts with a capital letter and is followed by lowercase. \n",
    "the function that gives us this is defined in the file [isform.py](https://github.com/skrljanja/E3/blob/master/NewTrain/isform.py)\n",
    "\n",
    "#### tf-idf \n",
    "gives two distinct tf-idf matrices, using the TfidfTransformer from the sklearn library. \n",
    "\n",
    "The first one has only one nonzero entry, corresponding to the observed word.  \n",
    "The second one has up to six nonzero entries, corresponding to the surroundings of the observed word. \n",
    "\n",
    "#### embedding\n",
    "the embedding vector using gloVe weighing.\n",
    "    \n",
    "### Testing method\n",
    "\n",
    "The test is done using 5-fold cross validation from sklearn on the file [train.txt](https://github.com/skrljanja/E3/blob/master/NewTrain/train.txt). It observes accuracy, f1, recall and precision"
   ]
  },
  {
   "cell_type": "code",
   "execution_count": null,
   "metadata": {},
   "outputs": [],
   "source": [
    " scores = cross_validate(clf, X, y, scoring = ['accuracy','f1', 'recall', 'precision'], cv = 5)"
   ]
  },
  {
   "cell_type": "markdown",
   "metadata": {},
   "source": [
    "### Running the test\n",
    "\n",
    "The file which joins all of this together is [train.txt](https://github.com/skrljanja/E3/blob/master/NewTrain/train.txt), so running this file gives you the output of the scores. \n",
    "\n",
    "The file specifies the which NER tag it is observing in line 23, so by changing the value of the variable \"anonType\", the observed NER tag is changed."
   ]
  },
  {
   "cell_type": "markdown",
   "metadata": {},
   "source": [
    "# Results\n",
    "\n",
    "This part of the notebook shows the scores obtained for each of the classifiers. \n",
    "\n",
    "### \"LOC\": \n",
    "Accuracy = 0.987813286\n",
    "\n",
    "F1 = 0.838931792 \n",
    "\n",
    "Recall = 0.782207018 \n",
    "\n",
    "Precision = 0.90555553\n",
    "\n",
    "\n",
    "### \"ORG\": \n",
    "Accuracy = 0.976755788\n",
    "\n",
    "F1 = 0.727515648\n",
    "\n",
    "Recall = 0.6345137160000001\n",
    "\n",
    "Precision = 0.8532788200000001\n",
    "\n",
    "### \"MISC\":\n",
    "Accuracy = 0.991318242\n",
    "\n",
    "F1 = 0.78165211\n",
    "\n",
    "Recall = 0.693002248\n",
    "\n",
    "Precision = 0.896755748\n"
   ]
  },
  {
   "cell_type": "code",
   "execution_count": null,
   "metadata": {},
   "outputs": [],
   "source": []
  }
 ],
 "metadata": {
  "kernelspec": {
   "display_name": "Python 3",
   "language": "python",
   "name": "python3"
  },
  "language_info": {
   "codemirror_mode": {
    "name": "ipython",
    "version": 3
   },
   "file_extension": ".py",
   "mimetype": "text/x-python",
   "name": "python",
   "nbconvert_exporter": "python",
   "pygments_lexer": "ipython3",
   "version": "3.7.6"
  }
 },
 "nbformat": 4,
 "nbformat_minor": 4
}
